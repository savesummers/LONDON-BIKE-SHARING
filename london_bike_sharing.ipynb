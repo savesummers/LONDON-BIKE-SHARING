{
 "cells": [
  {
   "cell_type": "code",
   "execution_count": 66,
   "metadata": {},
   "outputs": [],
   "source": [
    "import kagglehub\n",
    "import pandas as pd"
   ]
  },
  {
   "cell_type": "code",
   "execution_count": 67,
   "metadata": {},
   "outputs": [
    {
     "name": "stdout",
     "output_type": "stream",
     "text": [
      "Path to dataset files: C:\\Users\\mssam\\.cache\\kagglehub\\datasets\\hmavrodiev\\london-bike-sharing-dataset\\versions\\1\n"
     ]
    }
   ],
   "source": [
    "path = kagglehub.dataset_download(\"hmavrodiev/london-bike-sharing-dataset\")\n",
    "\n",
    "print(\"Path to dataset files:\", path)"
   ]
  },
  {
   "cell_type": "code",
   "execution_count": 68,
   "metadata": {},
   "outputs": [],
   "source": [
    "bikes_sharing = pd.read_csv('london_merged.csv')"
   ]
  },
  {
   "cell_type": "code",
   "execution_count": 69,
   "metadata": {},
   "outputs": [
    {
     "name": "stdout",
     "output_type": "stream",
     "text": [
      "<class 'pandas.core.frame.DataFrame'>\n",
      "RangeIndex: 17414 entries, 0 to 17413\n",
      "Data columns (total 10 columns):\n",
      " #   Column        Non-Null Count  Dtype  \n",
      "---  ------        --------------  -----  \n",
      " 0   timestamp     17414 non-null  object \n",
      " 1   cnt           17414 non-null  int64  \n",
      " 2   t1            17414 non-null  float64\n",
      " 3   t2            17414 non-null  float64\n",
      " 4   hum           17414 non-null  float64\n",
      " 5   wind_speed    17414 non-null  float64\n",
      " 6   weather_code  17414 non-null  float64\n",
      " 7   is_holiday    17414 non-null  float64\n",
      " 8   is_weekend    17414 non-null  float64\n",
      " 9   season        17414 non-null  float64\n",
      "dtypes: float64(8), int64(1), object(1)\n",
      "memory usage: 1.3+ MB\n",
      "None\n"
     ]
    }
   ],
   "source": [
    "print(bikes_sharing.info())"
   ]
  },
  {
   "cell_type": "code",
   "execution_count": 70,
   "metadata": {},
   "outputs": [
    {
     "name": "stdout",
     "output_type": "stream",
     "text": [
      "(17414, 10)\n"
     ]
    }
   ],
   "source": [
    "print(bikes_sharing.shape)"
   ]
  },
  {
   "cell_type": "code",
   "execution_count": 71,
   "metadata": {},
   "outputs": [
    {
     "name": "stdout",
     "output_type": "stream",
     "text": [
      "                 timestamp   cnt   t1   t2    hum  wind_speed  weather_code  \\\n",
      "0      2015-01-04 00:00:00   182  3.0  2.0   93.0         6.0           3.0   \n",
      "1      2015-01-04 01:00:00   138  3.0  2.5   93.0         5.0           1.0   \n",
      "2      2015-01-04 02:00:00   134  2.5  2.5   96.5         0.0           1.0   \n",
      "3      2015-01-04 03:00:00    72  2.0  2.0  100.0         0.0           1.0   \n",
      "4      2015-01-04 04:00:00    47  2.0  0.0   93.0         6.5           1.0   \n",
      "...                    ...   ...  ...  ...    ...         ...           ...   \n",
      "17409  2017-01-03 19:00:00  1042  5.0  1.0   81.0        19.0           3.0   \n",
      "17410  2017-01-03 20:00:00   541  5.0  1.0   81.0        21.0           4.0   \n",
      "17411  2017-01-03 21:00:00   337  5.5  1.5   78.5        24.0           4.0   \n",
      "17412  2017-01-03 22:00:00   224  5.5  1.5   76.0        23.0           4.0   \n",
      "17413  2017-01-03 23:00:00   139  5.0  1.0   76.0        22.0           2.0   \n",
      "\n",
      "       is_holiday  is_weekend  season  \n",
      "0             0.0         1.0     3.0  \n",
      "1             0.0         1.0     3.0  \n",
      "2             0.0         1.0     3.0  \n",
      "3             0.0         1.0     3.0  \n",
      "4             0.0         1.0     3.0  \n",
      "...           ...         ...     ...  \n",
      "17409         0.0         0.0     3.0  \n",
      "17410         0.0         0.0     3.0  \n",
      "17411         0.0         0.0     3.0  \n",
      "17412         0.0         0.0     3.0  \n",
      "17413         0.0         0.0     3.0  \n",
      "\n",
      "[17414 rows x 10 columns]\n"
     ]
    }
   ],
   "source": [
    "print(bikes_sharing)"
   ]
  },
  {
   "cell_type": "code",
   "execution_count": 72,
   "metadata": {},
   "outputs": [
    {
     "name": "stdout",
     "output_type": "stream",
     "text": [
      "season\n",
      "0.0    4394\n",
      "1.0    4387\n",
      "3.0    4330\n",
      "2.0    4303\n",
      "Name: count, dtype: int64\n"
     ]
    }
   ],
   "source": [
    "print(bikes_sharing.season.value_counts())"
   ]
  },
  {
   "cell_type": "markdown",
   "metadata": {},
   "source": [
    "* category field meteorological seasons: 0-spring ; 1-summer; 2-fall; 3-winter\n",
    "* meaning seasons effect on bike shares insignificant"
   ]
  },
  {
   "cell_type": "code",
   "execution_count": 73,
   "metadata": {},
   "outputs": [
    {
     "name": "stdout",
     "output_type": "stream",
     "text": [
      "weather_code\n",
      "1.0     6150\n",
      "2.0     4034\n",
      "3.0     3551\n",
      "7.0     2141\n",
      "4.0     1464\n",
      "26.0      60\n",
      "10.0      14\n",
      "Name: count, dtype: int64\n"
     ]
    }
   ],
   "source": [
    "print(bikes_sharing.weather_code.value_counts())"
   ]
  },
  {
   "cell_type": "markdown",
   "metadata": {},
   "source": [
    "* category of the weather - 1 = Clear ; mostly clear but have some values with haze/fog/patches of fog/ fog in vicinity 2 = scattered clouds / few clouds 3 = Broken clouds 4 = Cloudy 7 = Rain/ light Rain shower/ Light rain 10 = rain with thunderstorm 26 = snowfall 94 = Freezing Fog\n",
    "* meaning less bike shares in extreme weather conditions\n"
   ]
  },
  {
   "cell_type": "code",
   "execution_count": 74,
   "metadata": {},
   "outputs": [
    {
     "name": "stdout",
     "output_type": "stream",
     "text": [
      "is_weekend\n",
      "0.0    12444\n",
      "1.0     4970\n",
      "Name: count, dtype: int64\n"
     ]
    }
   ],
   "source": [
    "print(bikes_sharing.is_weekend.value_counts())"
   ]
  },
  {
   "cell_type": "markdown",
   "metadata": {},
   "source": [
    "* boolean field - 1 if the day is weekend\n",
    "* meaning less bike shares on weekends"
   ]
  },
  {
   "cell_type": "code",
   "execution_count": 75,
   "metadata": {},
   "outputs": [
    {
     "name": "stdout",
     "output_type": "stream",
     "text": [
      "is_holiday\n",
      "0.0    17030\n",
      "1.0      384\n",
      "Name: count, dtype: int64\n"
     ]
    }
   ],
   "source": [
    "print(bikes_sharing.is_holiday.value_counts())"
   ]
  },
  {
   "cell_type": "markdown",
   "metadata": {},
   "source": [
    "* boolean field - 1 holiday / 0 non holiday \n",
    "* meaning more bike shares on non holidays"
   ]
  },
  {
   "cell_type": "code",
   "execution_count": 76,
   "metadata": {},
   "outputs": [],
   "source": [
    "new_column_dict = {\n",
    "    'timestamp'     :  'timestamp',\n",
    "    'cnt'           :  'count',\n",
    "    't1'            :  'real_temp_C',\n",
    "    't2'            :  'feel_temp_C',\n",
    "    'hum'           :  'humidity',\n",
    "    'wind_speed'    :  'wind_speed',\n",
    "    'weather_code'  :  'weather_code',\n",
    "    'is_holiday'    :  'is_holiday',\n",
    "    'is_weekend'    :  'is_weekend',\n",
    "    'season'        :  'season'   \n",
    "}\n",
    "\n",
    "bikes_sharing.rename(new_column_dict, axis = 1, inplace = True)"
   ]
  },
  {
   "cell_type": "code",
   "execution_count": 77,
   "metadata": {},
   "outputs": [],
   "source": [
    "bikes_sharing.humidity = bikes_sharing.humidity/100"
   ]
  },
  {
   "cell_type": "code",
   "execution_count": 78,
   "metadata": {},
   "outputs": [],
   "source": [
    "season_dict = {\n",
    "    '0.0' : 'spring', \n",
    "    '1.0' : 'summer',\n",
    "    '2.0' : 'fall',\n",
    "    '3.0' : 'winter'\n",
    "}\n",
    "\n",
    "weather_code_dict = {\n",
    "    '1.0'    : 'clear',\n",
    "    '2.0'    : 'scattered clouds',\n",
    "    '3.0'    : 'broken clouds',\n",
    "    '4.0'    : 'cloudy',\n",
    "    '7.0'    : 'rain',\n",
    "    '10.0'   : 'rain with thunderstorm',\n",
    "    '26.0'   : 'snowfall'  \n",
    "}\n",
    "\n",
    "bikes_sharing.season = bikes_sharing.season.astype('str')\n",
    "bikes_sharing.season = bikes_sharing.season.map(season_dict)\n",
    "bikes_sharing.weather_code = bikes_sharing.weather_code.astype('str')\n",
    "bikes_sharing.weather_code = bikes_sharing.weather_code.map(weather_code_dict)\n"
   ]
  },
  {
   "cell_type": "code",
   "execution_count": 79,
   "metadata": {},
   "outputs": [
    {
     "name": "stdout",
     "output_type": "stream",
     "text": [
      "             timestamp  count  real_temp_C  feel_temp_C  humidity  wind_speed  \\\n",
      "0  2015-01-04 00:00:00    182          3.0          2.0     0.930         6.0   \n",
      "1  2015-01-04 01:00:00    138          3.0          2.5     0.930         5.0   \n",
      "2  2015-01-04 02:00:00    134          2.5          2.5     0.965         0.0   \n",
      "3  2015-01-04 03:00:00     72          2.0          2.0     1.000         0.0   \n",
      "4  2015-01-04 04:00:00     47          2.0          0.0     0.930         6.5   \n",
      "\n",
      "    weather_code  is_holiday  is_weekend  season  \n",
      "0  broken clouds         0.0         1.0  winter  \n",
      "1          clear         0.0         1.0  winter  \n",
      "2          clear         0.0         1.0  winter  \n",
      "3          clear         0.0         1.0  winter  \n",
      "4          clear         0.0         1.0  winter  \n"
     ]
    }
   ],
   "source": [
    "print(bikes_sharing.head())"
   ]
  },
  {
   "cell_type": "code",
   "execution_count": 80,
   "metadata": {},
   "outputs": [],
   "source": [
    "bikes_sharing.to_excel('london_bike_sharing_final.xlsx', sheet_name='Data')"
   ]
  }
 ],
 "metadata": {
  "kernelspec": {
   "display_name": "Python 3",
   "language": "python",
   "name": "python3"
  },
  "language_info": {
   "codemirror_mode": {
    "name": "ipython",
    "version": 3
   },
   "file_extension": ".py",
   "mimetype": "text/x-python",
   "name": "python",
   "nbconvert_exporter": "python",
   "pygments_lexer": "ipython3",
   "version": "3.12.3"
  }
 },
 "nbformat": 4,
 "nbformat_minor": 2
}
